{
 "cells": [
  {
   "cell_type": "code",
   "execution_count": null,
   "id": "0",
   "metadata": {},
   "outputs": [],
   "source": [
    "# Imports\n",
    "\n",
    "import sys\n",
    "import numpy as np\n",
    "import matplotlib.pyplot as plt\n",
    "import pandas as pd\n",
    "import uproot"
   ]
  },
  {
   "cell_type": "code",
   "execution_count": null,
   "id": "1",
   "metadata": {},
   "outputs": [],
   "source": [
    "\n",
    "\"\"\"\n",
    "Change rfile_name to the ROOT file path you want to analyze. I'm placing the simple NTuples that have been scraped from SBND Data/MC \n",
    "in the Data/NTuples directory\n",
    "\"\"\"\n",
    "rfile_name = \"/Users/alexanderantonakis/Software/SBND-PILEUP-ANALYSIS/Data/NTuples/flash_ntuple_bnblight_dev_2025B.root\"\n",
    "\n",
    "inFile = uproot.open(rfile_name)\n",
    "tree = inFile[\"flash_tree\"]\n",
    "print(\"Available Keys/Branches:\")\n",
    "print(tree.keys())"
   ]
  },
  {
   "cell_type": "code",
   "execution_count": null,
   "id": "2",
   "metadata": {},
   "outputs": [],
   "source": [
    "df = tree.arrays(tree.keys(), library=\"pd\")\n",
    "df[:4]"
   ]
  },
  {
   "cell_type": "code",
   "execution_count": null,
   "id": "3",
   "metadata": {},
   "outputs": [],
   "source": [
    "df[\"flash_time_corr\"] = df[\"flash_time\"] + df[\"frame_hlt_gate\"]\n",
    "print(\"Corrected the Flash times for the Event Trigger. Should be relative to the beam now!\")"
   ]
  },
  {
   "cell_type": "code",
   "execution_count": null,
   "id": "4",
   "metadata": {},
   "outputs": [],
   "source": [
    "S = \"-3 < flash_time_corr < 4\"\n",
    "w = 0.1 \n",
    "B = np.arange(-3, 4+w, w)\n",
    "\n",
    "\n",
    "plt.hist(df.query(S)[\"flash_time_corr\"].values, bins=B, histtype=\"step\", linewidth=2)\n",
    "plt.xlabel(\"Flash Time [us]\", fontsize=14)\n",
    "plt.show()\n"
   ]
  }
 ],
 "metadata": {
  "kernelspec": {
   "display_name": "Python 3",
   "language": "python",
   "name": "python3"
  },
  "language_info": {
   "codemirror_mode": {
    "name": "ipython",
    "version": 3
   },
   "file_extension": ".py",
   "mimetype": "text/x-python",
   "name": "python",
   "nbconvert_exporter": "python",
   "pygments_lexer": "ipython3",
   "version": "3.9.6"
  }
 },
 "nbformat": 4,
 "nbformat_minor": 5
}
