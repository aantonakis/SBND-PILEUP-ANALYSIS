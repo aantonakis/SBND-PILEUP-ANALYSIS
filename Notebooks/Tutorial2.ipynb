{
 "cells": [
  {
   "cell_type": "code",
   "execution_count": null,
   "id": "0",
   "metadata": {},
   "outputs": [],
   "source": [
    "# Imports\n",
    "\n",
    "import sys\n",
    "import numpy as np\n",
    "import matplotlib.pyplot as plt\n",
    "import pandas as pd\n",
    "import uproot\n"
   ]
  },
  {
   "cell_type": "code",
   "execution_count": null,
   "id": "1",
   "metadata": {},
   "outputs": [],
   "source": [
    "# Add ROOT file path+name\n",
    "#rfile_name = \"/Users/alexanderantonakis/Software/SBND-PILEUP-ANALYSIS/Data/beam_ana_offlight_2025B_subset.root\"\n",
    "rfile_name = \"/Users/alexanderantonakis/Software/SBND-PILEUP-ANALYSIS/Data/beam_ana_bnblight_2025B_subset.root\"\n",
    "\n",
    "inFile = uproot.open(rfile_name)\n",
    "event_tree = inFile[\"ana/events\"]\n",
    "print(\"Available Keys/Branches:\")\n",
    "print(event_tree.keys())"
   ]
  },
  {
   "cell_type": "code",
   "execution_count": null,
   "id": "2",
   "metadata": {},
   "outputs": [],
   "source": [
    "df = event_tree.arrays([\"run\", \"subrun\", \"event\", \"flash_id\", \"flash_time\", \"flash_total_pe\", \"frame_hlt_gate\"], library=\"pd\")\n",
    "df[:5]"
   ]
  },
  {
   "cell_type": "code",
   "execution_count": null,
   "id": "3",
   "metadata": {},
   "outputs": [],
   "source": [
    "df[\"flash_time\"] = df[\"flash_time\"] + df[\"frame_hlt_gate\"]\n",
    "df[:5]"
   ]
  },
  {
   "cell_type": "code",
   "execution_count": null,
   "id": "4",
   "metadata": {},
   "outputs": [],
   "source": [
    "f_time_v = df[\"flash_time\"].values\n",
    "f_pe_v = df[\"flash_total_pe\"].values\n",
    "f_time_flat = np.concatenate(f_time_v)\n",
    "f_pe_flat = np.concatenate(f_pe_v)\n",
    "print(\"Got Timing\")"
   ]
  },
  {
   "cell_type": "code",
   "execution_count": null,
   "id": "5",
   "metadata": {},
   "outputs": [],
   "source": [
    "plt.hist(f_pe_flat, bins=100, histtype=\"step\", label=\"Flash PE\")\n",
    "plt.xlabel(\"Flash PE\")\n",
    "plt.ylabel(\"Counts\")\n",
    "plt.show()"
   ]
  },
  {
   "cell_type": "code",
   "execution_count": null,
   "id": "6",
   "metadata": {},
   "outputs": [],
   "source": [
    "m = (f_pe_flat > 1000)\n",
    "f_time_flat = f_time_flat[m]\n",
    "print(\"Got Timing\")"
   ]
  },
  {
   "cell_type": "code",
   "execution_count": null,
   "id": "7",
   "metadata": {},
   "outputs": [],
   "source": [
    "plt.hist(f_time_flat, bins=50, range=(-3000, 5000), histtype=\"step\", label=\"Flash Time\")\n",
    "plt.xlabel(\"Flash Time (us)\")\n",
    "plt.ylabel(\"Counts\")\n",
    "plt.show()"
   ]
  }
 ],
 "metadata": {
  "kernelspec": {
   "display_name": "Python 3",
   "language": "python",
   "name": "python3"
  },
  "language_info": {
   "codemirror_mode": {
    "name": "ipython",
    "version": 3
   },
   "file_extension": ".py",
   "mimetype": "text/x-python",
   "name": "python",
   "nbconvert_exporter": "python",
   "pygments_lexer": "ipython3",
   "version": "3.9.6"
  }
 },
 "nbformat": 4,
 "nbformat_minor": 5
}
