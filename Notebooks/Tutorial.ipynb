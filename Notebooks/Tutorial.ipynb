{
 "cells": [
  {
   "cell_type": "code",
   "execution_count": null,
   "id": "0",
   "metadata": {},
   "outputs": [],
   "source": [
    "# Imports\n",
    "\n",
    "import sys\n",
    "import numpy as np\n",
    "import matplotlib.pyplot as plt\n",
    "import pandas as pd\n",
    "import uproot\n"
   ]
  },
  {
   "cell_type": "code",
   "execution_count": null,
   "id": "1",
   "metadata": {},
   "outputs": [],
   "source": [
    "# Add ROOT file path+name\n",
    "rfile_name = \"/Users/alexanderantonakis/Software/SBND-PILEUP-ANALYSIS/Data/pmt_opflash_ntuple_bnblight_test.root\"\n",
    "\n",
    "inFile = uproot.open(rfile_name)\n",
    "event_tree = inFile[\"ana/events\"]\n",
    "print(\"Available Keys/Branches:\")\n",
    "print(event_tree.keys())"
   ]
  },
  {
   "cell_type": "code",
   "execution_count": null,
   "id": "2",
   "metadata": {},
   "outputs": [],
   "source": [
    "B = np.arange(-10, 10, 0.1)\n",
    "\n",
    "# H is going to be the histogram\n",
    "# E is going to be the edges of the histogram\n",
    "H = 0\n",
    "E = 0\n",
    "\n",
    "# Set Chunk Size\n",
    "chunk_size = 1000\n",
    "# Loop over the events in chunks\n",
    "\n",
    "\n",
    "for i, df_chunk in enumerate(event_tree.iterate(\n",
    "        [\"run\", \"subrun\", \"event\", \"flash_id\", \"flash_time\"],\n",
    "        step_size=chunk_size,\n",
    "        library=\"pd\"\n",
    ")):\n",
    "    print(f\"Processing chunk {i+1}\")\n",
    "    # Process the chunk\n",
    "\n",
    "    f_time_v = df_chunk[\"flash_time\"].values\n",
    "    f_time_flat = np.concatenate(f_time_v)\n",
    "    f_time_flat = f_time_flat[(f_time_flat > -10) & (f_time_flat < 10)]\n",
    "\n",
    "    h, edges = np.histogram(f_time_flat, bins=B)\n",
    "    h = np.array(h, dtype=float)\n",
    "    if i == 0:\n",
    "        H = h\n",
    "        E = edges\n",
    "    else:\n",
    "        H += h\n",
    "\n",
    "print(\"done\")"
   ]
  },
  {
   "cell_type": "code",
   "execution_count": null,
   "id": "3",
   "metadata": {},
   "outputs": [],
   "source": [
    "bin_centers = (E[:-1] + E[1:]) / 2\n",
    "bin_width = E[1] - E[0]\n",
    "\n",
    "plt.errorbar(bin_centers, H, xerr=np.zeros_like(bin_centers)+(bin_width/2), yerr=np.sqrt(H), fmt='o', c='b')\n",
    "\n",
    "plt.xlabel(\"Flash Time (us)\", fontsize=14)\n",
    "plt.ylabel(\"Counts\", fontsize=14)\n",
    "plt.yscale(\"log\")\n",
    "plt.show()"
   ]
  }
 ],
 "metadata": {
  "kernelspec": {
   "display_name": "Python 3",
   "language": "python",
   "name": "python3"
  },
  "language_info": {
   "codemirror_mode": {
    "name": "ipython",
    "version": 3
   },
   "file_extension": ".py",
   "mimetype": "text/x-python",
   "name": "python",
   "nbconvert_exporter": "python",
   "pygments_lexer": "ipython3",
   "version": "3.9.6"
  }
 },
 "nbformat": 4,
 "nbformat_minor": 5
}
